{
 "cells": [
  {
   "cell_type": "code",
   "execution_count": 1,
   "metadata": {},
   "outputs": [],
   "source": [
    "# Import modules.\n",
    "import torch\n",
    "import random\n",
    "\n",
    "import numpy as np\n",
    "\n",
    "from game import Game\n",
    "from network import H_GO\n",
    "from torch import nn, optim\n",
    "from torchsummary import summary\n",
    "from dataReader import DataReader\n",
    "from trainer import SL_Trainer, RL_Trainer"
   ]
  },
  {
   "cell_type": "code",
   "execution_count": 2,
   "metadata": {},
   "outputs": [
    {
     "name": "stdout",
     "output_type": "stream",
     "text": [
      "CUDA is available.\n"
     ]
    }
   ],
   "source": [
    "# Set training device.\n",
    "if torch.cuda.is_available():\n",
    "    device = torch.device(\"cuda\")\n",
    "    print(\"CUDA is available.\")\n",
    "else:\n",
    "    device = torch.device(\"cpu\")\n",
    "    print(\"CUDA is not available, using CPU instead.\")"
   ]
  },
  {
   "cell_type": "code",
   "execution_count": 3,
   "metadata": {},
   "outputs": [],
   "source": [
    "# Set random seed.\n",
    "random_seed = 0\n",
    "\n",
    "random.seed(random_seed)\n",
    "np.random.seed(random_seed)\n",
    "torch.manual_seed(random_seed)\n",
    "torch.cuda.manual_seed(random_seed)\n",
    "torch.backends.cudnn.benchmark = False\n",
    "torch.backends.cudnn.deterministic = True"
   ]
  },
  {
   "cell_type": "code",
   "execution_count": 4,
   "metadata": {},
   "outputs": [],
   "source": [
    "# Set hyperparameters.\n",
    "epochs = 5\n",
    "\n",
    "batch_size = 256\n",
    "data_num = 500\n",
    "data_augment = False"
   ]
  },
  {
   "cell_type": "code",
   "execution_count": 5,
   "metadata": {},
   "outputs": [
    {
     "name": "stdout",
     "output_type": "stream",
     "text": [
      "Read raw data completed. (0.39 s)\n",
      "Clear data completed. (0.01 s)\n",
      "Convert data completed. (0.03 s)\n",
      "Make train data completed. (0.91 s)\n",
      "Split train and test data completed. (68359 train data, 17090 test data).\n"
     ]
    }
   ],
   "source": [
    "# Load data.\n",
    "data_reader = DataReader(dir_path=\"../dataset/pro\", load_num=data_num, train_ratio=0.8, augment=data_augment)"
   ]
  },
  {
   "cell_type": "code",
   "execution_count": 6,
   "metadata": {},
   "outputs": [
    {
     "data": {
      "text/plain": [
       "H_GO(\n",
       "  (conv1): Conv2d(8, 64, kernel_size=(3, 3), stride=(1, 1))\n",
       "  (bn1): BatchNorm2d(64, eps=1e-05, momentum=0.1, affine=True, track_running_stats=True)\n",
       "  (tanh): Tanh()\n",
       "  (layers): Sequential(\n",
       "    (0): Block(\n",
       "      (conv1): Conv2d(64, 64, kernel_size=(3, 3), stride=(1, 1), padding=(1, 1))\n",
       "      (bn1): BatchNorm2d(64, eps=1e-05, momentum=0.1, affine=True, track_running_stats=True)\n",
       "      (conv2): Conv2d(64, 64, kernel_size=(3, 3), stride=(1, 1), padding=(1, 1))\n",
       "      (bn2): BatchNorm2d(64, eps=1e-05, momentum=0.1, affine=True, track_running_stats=True)\n",
       "      (relu): ReLU(inplace=True)\n",
       "    )\n",
       "    (1): Block(\n",
       "      (conv1): Conv2d(64, 64, kernel_size=(3, 3), stride=(1, 1), padding=(1, 1))\n",
       "      (bn1): BatchNorm2d(64, eps=1e-05, momentum=0.1, affine=True, track_running_stats=True)\n",
       "      (conv2): Conv2d(64, 64, kernel_size=(3, 3), stride=(1, 1), padding=(1, 1))\n",
       "      (bn2): BatchNorm2d(64, eps=1e-05, momentum=0.1, affine=True, track_running_stats=True)\n",
       "      (relu): ReLU(inplace=True)\n",
       "    )\n",
       "    (2): Block(\n",
       "      (conv1): Conv2d(64, 64, kernel_size=(3, 3), stride=(1, 1), padding=(1, 1))\n",
       "      (bn1): BatchNorm2d(64, eps=1e-05, momentum=0.1, affine=True, track_running_stats=True)\n",
       "      (conv2): Conv2d(64, 64, kernel_size=(3, 3), stride=(1, 1), padding=(1, 1))\n",
       "      (bn2): BatchNorm2d(64, eps=1e-05, momentum=0.1, affine=True, track_running_stats=True)\n",
       "      (relu): ReLU(inplace=True)\n",
       "    )\n",
       "    (3): Block(\n",
       "      (conv1): Conv2d(64, 64, kernel_size=(3, 3), stride=(1, 1), padding=(1, 1))\n",
       "      (bn1): BatchNorm2d(64, eps=1e-05, momentum=0.1, affine=True, track_running_stats=True)\n",
       "      (conv2): Conv2d(64, 64, kernel_size=(3, 3), stride=(1, 1), padding=(1, 1))\n",
       "      (bn2): BatchNorm2d(64, eps=1e-05, momentum=0.1, affine=True, track_running_stats=True)\n",
       "      (relu): ReLU(inplace=True)\n",
       "    )\n",
       "    (4): Block(\n",
       "      (conv1): Conv2d(64, 64, kernel_size=(3, 3), stride=(1, 1), padding=(1, 1))\n",
       "      (bn1): BatchNorm2d(64, eps=1e-05, momentum=0.1, affine=True, track_running_stats=True)\n",
       "      (conv2): Conv2d(64, 64, kernel_size=(3, 3), stride=(1, 1), padding=(1, 1))\n",
       "      (bn2): BatchNorm2d(64, eps=1e-05, momentum=0.1, affine=True, track_running_stats=True)\n",
       "      (relu): ReLU(inplace=True)\n",
       "    )\n",
       "    (5): Block(\n",
       "      (conv1): Conv2d(64, 64, kernel_size=(3, 3), stride=(1, 1), padding=(1, 1))\n",
       "      (bn1): BatchNorm2d(64, eps=1e-05, momentum=0.1, affine=True, track_running_stats=True)\n",
       "      (conv2): Conv2d(64, 64, kernel_size=(3, 3), stride=(1, 1), padding=(1, 1))\n",
       "      (bn2): BatchNorm2d(64, eps=1e-05, momentum=0.1, affine=True, track_running_stats=True)\n",
       "      (relu): ReLU(inplace=True)\n",
       "    )\n",
       "    (6): Block(\n",
       "      (conv1): Conv2d(64, 64, kernel_size=(3, 3), stride=(1, 1), padding=(1, 1))\n",
       "      (bn1): BatchNorm2d(64, eps=1e-05, momentum=0.1, affine=True, track_running_stats=True)\n",
       "      (conv2): Conv2d(64, 64, kernel_size=(3, 3), stride=(1, 1), padding=(1, 1))\n",
       "      (bn2): BatchNorm2d(64, eps=1e-05, momentum=0.1, affine=True, track_running_stats=True)\n",
       "      (relu): ReLU(inplace=True)\n",
       "    )\n",
       "    (7): Block(\n",
       "      (conv1): Conv2d(64, 64, kernel_size=(3, 3), stride=(1, 1), padding=(1, 1))\n",
       "      (bn1): BatchNorm2d(64, eps=1e-05, momentum=0.1, affine=True, track_running_stats=True)\n",
       "      (conv2): Conv2d(64, 64, kernel_size=(3, 3), stride=(1, 1), padding=(1, 1))\n",
       "      (bn2): BatchNorm2d(64, eps=1e-05, momentum=0.1, affine=True, track_running_stats=True)\n",
       "      (relu): ReLU(inplace=True)\n",
       "    )\n",
       "    (8): Block(\n",
       "      (conv1): Conv2d(64, 64, kernel_size=(3, 3), stride=(1, 1), padding=(1, 1))\n",
       "      (bn1): BatchNorm2d(64, eps=1e-05, momentum=0.1, affine=True, track_running_stats=True)\n",
       "      (conv2): Conv2d(64, 64, kernel_size=(3, 3), stride=(1, 1), padding=(1, 1))\n",
       "      (bn2): BatchNorm2d(64, eps=1e-05, momentum=0.1, affine=True, track_running_stats=True)\n",
       "      (relu): ReLU(inplace=True)\n",
       "    )\n",
       "    (9): Block(\n",
       "      (conv1): Conv2d(64, 64, kernel_size=(3, 3), stride=(1, 1), padding=(1, 1))\n",
       "      (bn1): BatchNorm2d(64, eps=1e-05, momentum=0.1, affine=True, track_running_stats=True)\n",
       "      (conv2): Conv2d(64, 64, kernel_size=(3, 3), stride=(1, 1), padding=(1, 1))\n",
       "      (bn2): BatchNorm2d(64, eps=1e-05, momentum=0.1, affine=True, track_running_stats=True)\n",
       "      (relu): ReLU(inplace=True)\n",
       "    )\n",
       "  )\n",
       "  (attention): Attention(\n",
       "    (query): Conv2d(64, 64, kernel_size=(1, 1), stride=(1, 1), bias=False)\n",
       "    (key): Conv2d(64, 64, kernel_size=(1, 1), stride=(1, 1), bias=False)\n",
       "    (value): Conv2d(64, 64, kernel_size=(1, 1), stride=(1, 1), bias=False)\n",
       "    (softmax): Softmax(dim=-1)\n",
       "  )\n",
       "  (policy): Sequential(\n",
       "    (0): Conv2d(64, 2, kernel_size=(1, 1), stride=(1, 1))\n",
       "    (1): BatchNorm2d(2, eps=1e-05, momentum=0.1, affine=True, track_running_stats=True)\n",
       "    (2): LeakyReLU(negative_slope=0.01)\n",
       "    (3): Flatten(start_dim=1, end_dim=-1)\n",
       "    (4): Linear(in_features=578, out_features=361, bias=True)\n",
       "  )\n",
       "  (value): Sequential(\n",
       "    (0): Conv2d(64, 1, kernel_size=(1, 1), stride=(1, 1))\n",
       "    (1): BatchNorm2d(1, eps=1e-05, momentum=0.1, affine=True, track_running_stats=True)\n",
       "    (2): ReLU()\n",
       "    (3): Flatten(start_dim=1, end_dim=-1)\n",
       "    (4): Linear(in_features=289, out_features=256, bias=True)\n",
       "    (5): ReLU()\n",
       "    (6): Linear(in_features=256, out_features=1, bias=True)\n",
       "    (7): Sigmoid()\n",
       "  )\n",
       ")"
      ]
     },
     "execution_count": 6,
     "metadata": {},
     "output_type": "execute_result"
    }
   ],
   "source": [
    "# set model.\n",
    "model = H_GO(input_size=8, output_size=361, hidden_dim=64)\n",
    "model.to(device=device)"
   ]
  },
  {
   "cell_type": "code",
   "execution_count": 7,
   "metadata": {},
   "outputs": [
    {
     "name": "stdout",
     "output_type": "stream",
     "text": [
      "----------------------------------------------------------------\n",
      "        Layer (type)               Output Shape         Param #\n",
      "================================================================\n",
      "            Conv2d-1           [-1, 64, 17, 17]           4,672\n",
      "       BatchNorm2d-2           [-1, 64, 17, 17]             128\n",
      "              Tanh-3           [-1, 64, 17, 17]               0\n",
      "            Conv2d-4           [-1, 64, 17, 17]          36,928\n",
      "       BatchNorm2d-5           [-1, 64, 17, 17]             128\n",
      "              ReLU-6           [-1, 64, 17, 17]               0\n",
      "            Conv2d-7           [-1, 64, 17, 17]          36,928\n",
      "       BatchNorm2d-8           [-1, 64, 17, 17]             128\n",
      "              ReLU-9           [-1, 64, 17, 17]               0\n",
      "            Block-10           [-1, 64, 17, 17]               0\n",
      "           Conv2d-11           [-1, 64, 17, 17]          36,928\n",
      "      BatchNorm2d-12           [-1, 64, 17, 17]             128\n",
      "             ReLU-13           [-1, 64, 17, 17]               0\n",
      "           Conv2d-14           [-1, 64, 17, 17]          36,928\n",
      "      BatchNorm2d-15           [-1, 64, 17, 17]             128\n",
      "             ReLU-16           [-1, 64, 17, 17]               0\n",
      "            Block-17           [-1, 64, 17, 17]               0\n",
      "           Conv2d-18           [-1, 64, 17, 17]          36,928\n",
      "      BatchNorm2d-19           [-1, 64, 17, 17]             128\n",
      "             ReLU-20           [-1, 64, 17, 17]               0\n",
      "           Conv2d-21           [-1, 64, 17, 17]          36,928\n",
      "      BatchNorm2d-22           [-1, 64, 17, 17]             128\n",
      "             ReLU-23           [-1, 64, 17, 17]               0\n",
      "            Block-24           [-1, 64, 17, 17]               0\n",
      "           Conv2d-25           [-1, 64, 17, 17]          36,928\n",
      "      BatchNorm2d-26           [-1, 64, 17, 17]             128\n",
      "             ReLU-27           [-1, 64, 17, 17]               0\n",
      "           Conv2d-28           [-1, 64, 17, 17]          36,928\n",
      "      BatchNorm2d-29           [-1, 64, 17, 17]             128\n",
      "             ReLU-30           [-1, 64, 17, 17]               0\n",
      "            Block-31           [-1, 64, 17, 17]               0\n",
      "           Conv2d-32           [-1, 64, 17, 17]          36,928\n",
      "      BatchNorm2d-33           [-1, 64, 17, 17]             128\n",
      "             ReLU-34           [-1, 64, 17, 17]               0\n",
      "           Conv2d-35           [-1, 64, 17, 17]          36,928\n",
      "      BatchNorm2d-36           [-1, 64, 17, 17]             128\n",
      "             ReLU-37           [-1, 64, 17, 17]               0\n",
      "            Block-38           [-1, 64, 17, 17]               0\n",
      "           Conv2d-39           [-1, 64, 17, 17]          36,928\n",
      "      BatchNorm2d-40           [-1, 64, 17, 17]             128\n",
      "             ReLU-41           [-1, 64, 17, 17]               0\n",
      "           Conv2d-42           [-1, 64, 17, 17]          36,928\n",
      "      BatchNorm2d-43           [-1, 64, 17, 17]             128\n",
      "             ReLU-44           [-1, 64, 17, 17]               0\n",
      "            Block-45           [-1, 64, 17, 17]               0\n",
      "           Conv2d-46           [-1, 64, 17, 17]          36,928\n",
      "      BatchNorm2d-47           [-1, 64, 17, 17]             128\n",
      "             ReLU-48           [-1, 64, 17, 17]               0\n",
      "           Conv2d-49           [-1, 64, 17, 17]          36,928\n",
      "      BatchNorm2d-50           [-1, 64, 17, 17]             128\n",
      "             ReLU-51           [-1, 64, 17, 17]               0\n",
      "            Block-52           [-1, 64, 17, 17]               0\n",
      "           Conv2d-53           [-1, 64, 17, 17]          36,928\n",
      "      BatchNorm2d-54           [-1, 64, 17, 17]             128\n",
      "             ReLU-55           [-1, 64, 17, 17]               0\n",
      "           Conv2d-56           [-1, 64, 17, 17]          36,928\n",
      "      BatchNorm2d-57           [-1, 64, 17, 17]             128\n",
      "             ReLU-58           [-1, 64, 17, 17]               0\n",
      "            Block-59           [-1, 64, 17, 17]               0\n",
      "           Conv2d-60           [-1, 64, 17, 17]          36,928\n",
      "      BatchNorm2d-61           [-1, 64, 17, 17]             128\n",
      "             ReLU-62           [-1, 64, 17, 17]               0\n",
      "           Conv2d-63           [-1, 64, 17, 17]          36,928\n",
      "      BatchNorm2d-64           [-1, 64, 17, 17]             128\n",
      "             ReLU-65           [-1, 64, 17, 17]               0\n",
      "            Block-66           [-1, 64, 17, 17]               0\n",
      "           Conv2d-67           [-1, 64, 17, 17]          36,928\n",
      "      BatchNorm2d-68           [-1, 64, 17, 17]             128\n",
      "             ReLU-69           [-1, 64, 17, 17]               0\n",
      "           Conv2d-70           [-1, 64, 17, 17]          36,928\n",
      "      BatchNorm2d-71           [-1, 64, 17, 17]             128\n",
      "             ReLU-72           [-1, 64, 17, 17]               0\n",
      "            Block-73           [-1, 64, 17, 17]               0\n",
      "           Conv2d-74           [-1, 64, 17, 17]           4,096\n",
      "           Conv2d-75           [-1, 64, 19, 19]           4,096\n",
      "           Conv2d-76           [-1, 64, 19, 19]           4,096\n",
      "          Softmax-77     [-1, 1, 64, 17, 17, 9]               0\n",
      "        Attention-78           [-1, 64, 17, 17]               0\n",
      "           Conv2d-79            [-1, 2, 17, 17]             130\n",
      "      BatchNorm2d-80            [-1, 2, 17, 17]               4\n",
      "        LeakyReLU-81            [-1, 2, 17, 17]               0\n",
      "          Flatten-82                  [-1, 578]               0\n",
      "           Linear-83                  [-1, 361]         209,019\n",
      "           Conv2d-84            [-1, 1, 17, 17]              65\n",
      "      BatchNorm2d-85            [-1, 1, 17, 17]               2\n",
      "             ReLU-86            [-1, 1, 17, 17]               0\n",
      "          Flatten-87                  [-1, 289]               0\n",
      "           Linear-88                  [-1, 256]          74,240\n",
      "             ReLU-89                  [-1, 256]               0\n",
      "           Linear-90                    [-1, 1]             257\n",
      "          Sigmoid-91                    [-1, 1]               0\n",
      "================================================================\n",
      "Total params: 1,041,925\n",
      "Trainable params: 1,041,925\n",
      "Non-trainable params: 0\n",
      "----------------------------------------------------------------\n",
      "Input size (MB): 0.01\n",
      "Forward/backward pass size (MB): 12.24\n",
      "Params size (MB): 3.97\n",
      "Estimated Total Size (MB): 16.22\n",
      "----------------------------------------------------------------\n"
     ]
    }
   ],
   "source": [
    "# Print model summary.\n",
    "summary(model, input_size=(8, 19, 19))"
   ]
  },
  {
   "cell_type": "code",
   "execution_count": 8,
   "metadata": {},
   "outputs": [],
   "source": [
    "# Set optimizer and loss function.\n",
    "optimizer = optim.RAdam(params=model.parameters())\n",
    "loss_fu_policy = nn.CrossEntropyLoss()\n",
    "loss_fu_value = nn.BCELoss()"
   ]
  },
  {
   "cell_type": "code",
   "execution_count": 9,
   "metadata": {},
   "outputs": [
    {
     "name": "stdout",
     "output_type": "stream",
     "text": [
      "Epoch: 000 | Loss of model: 1608.197 | Accuracy of policy: 1.024% | Accuracy of value: 83.745%\n",
      "Accuracy of policy: 0.960% | Accuracy of value: 55.600%\n",
      "Epoch: 001 | Loss of model: 1448.182 | Accuracy of policy: 2.427% | Accuracy of value: 95.679%\n",
      "Epoch: 002 | Loss of model: 1275.910 | Accuracy of policy: 5.040% | Accuracy of value: 96.115%\n",
      "Epoch: 003 | Loss of model: 1189.501 | Accuracy of policy: 7.446% | Accuracy of value: 96.511%\n",
      "Epoch: 004 | Loss of model: 1135.334 | Accuracy of policy: 9.351% | Accuracy of value: 96.804%\n"
     ]
    }
   ],
   "source": [
    "sl_trainer = SL_Trainer(epochs=epochs, model=model, device=device, optimizer=optimizer, loss_fu_policy=loss_fu_policy, loss_fu_value=loss_fu_value)\n",
    "sl_trainer.train(data_reader=data_reader, batch_size=batch_size, test_every_epoch=5)"
   ]
  },
  {
   "cell_type": "code",
   "execution_count": 10,
   "metadata": {},
   "outputs": [
    {
     "name": "stdout",
     "output_type": "stream",
     "text": [
      "Accuracy of policy: 8.344% | Accuracy of value: 53.938%\n"
     ]
    }
   ],
   "source": [
    "sl_trainer.test(data_reader=data_reader, batch_size=batch_size)"
   ]
  },
  {
   "cell_type": "code",
   "execution_count": 11,
   "metadata": {},
   "outputs": [
    {
     "name": "stderr",
     "output_type": "stream",
     "text": [
      "e:\\Project\\H-Go\\src\\hts.py:76: UserWarning: Creating a tensor from a list of numpy.ndarrays is extremely slow. Please consider converting the list to a single numpy.ndarray with numpy.array() before converting to a tensor. (Triggered internally at C:\\cb\\pytorch_1000000000000\\work\\torch\\csrc\\utils\\tensor_new.cpp:233.)\n",
      "  input = torch.tensor([input], dtype=torch.float).to(self.device)\n"
     ]
    },
    {
     "name": "stdout",
     "output_type": "stream",
     "text": [
      "AI's move: (11, 2)\n",
      "  A B C D E F G H I J K L M N O P Q R S\n",
      "A · · · · · · · · · · · · · · · · · · · \n",
      "B · · · · · · · · · · · · · · · · · · · \n",
      "C · · · · · · · · · · · · · · · · · · · \n",
      "D · · · · · · · · · · · · · · · · · · · \n",
      "E · · · · · · · · · · · · · · · · · · · \n",
      "F · · · · · · · · · · · · · · · · · · · \n",
      "G · · · · · · · · · · · · · · · · · · · \n",
      "H · · · · · · · · · · · · · · · · · · · \n",
      "I · · · · · · · · · · · · · · · · · · · \n",
      "J · · · · · · · · · · · · · · · · · · · \n",
      "K · · · · · · · · · · · · · · · · · · · \n",
      "L · ·(X)· · · · · · · · · · · · · · · · \n",
      "M · · · · · · · · · · · · · · · · · · · \n",
      "N · · · · · · · · · · · · · · · · · · · \n",
      "O · · · · · · · · · · · · · · · · · · · \n",
      "P · · · · · · · · · · · · · · · · · · · \n",
      "Q · · · · · · · · · · · · · · · · · · · \n",
      "R · · · · · · · · · · · · · · · · · · · \n",
      "S · · · · · · · · · · · · · · · · · · · \n",
      "\n",
      "Player's move: (11, 3)\n",
      "  A B C D E F G H I J K L M N O P Q R S\n",
      "A · · · · · · · · · · · · · · · · · · · \n",
      "B · · · · · · · · · · · · · · · · · · · \n",
      "C · · · · · · · · · · · · · · · · · · · \n",
      "D · · · · · · · · · · · · · · · · · · · \n",
      "E · · · · · · · · · · · · · · · · · · · \n",
      "F · · · · · · · · · · · · · · · · · · · \n",
      "G · · · · · · · · · · · · · · · · · · · \n",
      "H · · · · · · · · · · · · · · · · · · · \n",
      "I · · · · · · · · · · · · · · · · · · · \n",
      "J · · · · · · · · · · · · · · · · · · · \n",
      "K · · · · · · · · · · · · · · · · · · · \n",
      "L · · X(O)· · · · · · · · · · · · · · · \n",
      "M · · · · · · · · · · · · · · · · · · · \n",
      "N · · · · · · · · · · · · · · · · · · · \n",
      "O · · · · · · · · · · · · · · · · · · · \n",
      "P · · · · · · · · · · · · · · · · · · · \n",
      "Q · · · · · · · · · · · · · · · · · · · \n",
      "R · · · · · · · · · · · · · · · · · · · \n",
      "S · · · · · · · · · · · · · · · · · · · \n",
      "\n",
      "AI's move: (12, 12)\n",
      "  A B C D E F G H I J K L M N O P Q R S\n",
      "A · · · · · · · · · · · · · · · · · · · \n",
      "B · · · · · · · · · · · · · · · · · · · \n",
      "C · · · · · · · · · · · · · · · · · · · \n",
      "D · · · · · · · · · · · · · · · · · · · \n",
      "E · · · · · · · · · · · · · · · · · · · \n",
      "F · · · · · · · · · · · · · · · · · · · \n",
      "G · · · · · · · · · · · · · · · · · · · \n",
      "H · · · · · · · · · · · · · · · · · · · \n",
      "I · · · · · · · · · · · · · · · · · · · \n",
      "J · · · · · · · · · · · · · · · · · · · \n",
      "K · · · · · · · · · · · · · · · · · · · \n",
      "L · · X O · · · · · · · · · · · · · · · \n",
      "M · · · · · · · · · · · ·(X)· · · · · · \n",
      "N · · · · · · · · · · · · · · · · · · · \n",
      "O · · · · · · · · · · · · · · · · · · · \n",
      "P · · · · · · · · · · · · · · · · · · · \n",
      "Q · · · · · · · · · · · · · · · · · · · \n",
      "R · · · · · · · · · · · · · · · · · · · \n",
      "S · · · · · · · · · · · · · · · · · · · \n",
      "\n",
      "User quit the game.\n"
     ]
    }
   ],
   "source": [
    "game = Game(size=19, model=model, device=device)\n",
    "game.play()"
   ]
  },
  {
   "cell_type": "code",
   "execution_count": null,
   "metadata": {},
   "outputs": [],
   "source": []
  }
 ],
 "metadata": {
  "kernelspec": {
   "display_name": "pytorch",
   "language": "python",
   "name": "python3"
  },
  "language_info": {
   "codemirror_mode": {
    "name": "ipython",
    "version": 3
   },
   "file_extension": ".py",
   "mimetype": "text/x-python",
   "name": "python",
   "nbconvert_exporter": "python",
   "pygments_lexer": "ipython3",
   "version": "3.10.14"
  }
 },
 "nbformat": 4,
 "nbformat_minor": 2
}

{
 "cells": [
  {
   "cell_type": "code",
   "execution_count": 10,
   "metadata": {},
   "outputs": [],
   "source": [
    "# Import modules.\n",
    "import torch\n",
    "import random\n",
    "\n",
    "import numpy as np\n",
    "\n",
    "from gui import GUI\n",
    "from hts import HTS\n",
    "from network import H_GO\n",
    "from torch import nn, optim\n",
    "from collections import deque\n",
    "from torchsummary import summary\n",
    "from dataReader import DataReader\n",
    "from trainer import SL_Trainer, RL_Trainer"
   ]
  },
  {
   "cell_type": "code",
   "execution_count": 11,
   "metadata": {},
   "outputs": [
    {
     "name": "stdout",
     "output_type": "stream",
     "text": [
      "CUDA is available.\n"
     ]
    }
   ],
   "source": [
    "# Set training device.\n",
    "if torch.cuda.is_available():\n",
    "    device = torch.device(\"cuda\")\n",
    "    print(\"CUDA is available.\")\n",
    "else:\n",
    "    device = torch.device(\"cpu\")\n",
    "    print(\"CUDA is not available, using CPU instead.\")"
   ]
  },
  {
   "cell_type": "code",
   "execution_count": 12,
   "metadata": {},
   "outputs": [],
   "source": [
    "# Set random seed.\n",
    "random_seed = 0\n",
    "\n",
    "random.seed(random_seed)\n",
    "np.random.seed(random_seed)\n",
    "torch.manual_seed(random_seed)\n",
    "torch.cuda.manual_seed(random_seed)\n",
    "torch.backends.cudnn.benchmark = False\n",
    "torch.backends.cudnn.deterministic = True"
   ]
  },
  {
   "cell_type": "code",
   "execution_count": 13,
   "metadata": {},
   "outputs": [],
   "source": [
    "# Set hyperparameters.\n",
    "epochs = 5\n",
    "\n",
    "batch_size = 256\n",
    "data_num = 10\n",
    "data_augment = False"
   ]
  },
  {
   "cell_type": "code",
   "execution_count": 14,
   "metadata": {},
   "outputs": [
    {
     "name": "stdout",
     "output_type": "stream",
     "text": [
      "Read raw data completed. (0.01 s)\n",
      "Clear data completed. (0.00 s)\n",
      "Convert data completed. (0.00 s)\n",
      "Make train data completed. (0.01 s)\n",
      "Split train and test data completed. (1744 train data, 437 test data).\n"
     ]
    }
   ],
   "source": [
    "# Load data.\n",
    "data_reader = DataReader(dir_path=\"../dataset/pro\", load_num=data_num, train_ratio=0.8, augment=data_augment)"
   ]
  },
  {
   "cell_type": "code",
   "execution_count": 15,
   "metadata": {},
   "outputs": [
    {
     "data": {
      "text/plain": [
       "H_GO(\n",
       "  (conv1): Conv2d(8, 64, kernel_size=(3, 3), stride=(1, 1))\n",
       "  (bn1): BatchNorm2d(64, eps=1e-05, momentum=0.1, affine=True, track_running_stats=True)\n",
       "  (tanh): Tanh()\n",
       "  (layers): Sequential(\n",
       "    (0): Block(\n",
       "      (conv1): Conv2d(64, 64, kernel_size=(3, 3), stride=(1, 1), padding=(1, 1))\n",
       "      (bn1): BatchNorm2d(64, eps=1e-05, momentum=0.1, affine=True, track_running_stats=True)\n",
       "      (conv2): Conv2d(64, 64, kernel_size=(3, 3), stride=(1, 1), padding=(1, 1))\n",
       "      (bn2): BatchNorm2d(64, eps=1e-05, momentum=0.1, affine=True, track_running_stats=True)\n",
       "      (relu): ReLU(inplace=True)\n",
       "    )\n",
       "    (1): Block(\n",
       "      (conv1): Conv2d(64, 64, kernel_size=(3, 3), stride=(1, 1), padding=(1, 1))\n",
       "      (bn1): BatchNorm2d(64, eps=1e-05, momentum=0.1, affine=True, track_running_stats=True)\n",
       "      (conv2): Conv2d(64, 64, kernel_size=(3, 3), stride=(1, 1), padding=(1, 1))\n",
       "      (bn2): BatchNorm2d(64, eps=1e-05, momentum=0.1, affine=True, track_running_stats=True)\n",
       "      (relu): ReLU(inplace=True)\n",
       "    )\n",
       "    (2): Block(\n",
       "      (conv1): Conv2d(64, 64, kernel_size=(3, 3), stride=(1, 1), padding=(1, 1))\n",
       "      (bn1): BatchNorm2d(64, eps=1e-05, momentum=0.1, affine=True, track_running_stats=True)\n",
       "      (conv2): Conv2d(64, 64, kernel_size=(3, 3), stride=(1, 1), padding=(1, 1))\n",
       "      (bn2): BatchNorm2d(64, eps=1e-05, momentum=0.1, affine=True, track_running_stats=True)\n",
       "      (relu): ReLU(inplace=True)\n",
       "    )\n",
       "    (3): Block(\n",
       "      (conv1): Conv2d(64, 64, kernel_size=(3, 3), stride=(1, 1), padding=(1, 1))\n",
       "      (bn1): BatchNorm2d(64, eps=1e-05, momentum=0.1, affine=True, track_running_stats=True)\n",
       "      (conv2): Conv2d(64, 64, kernel_size=(3, 3), stride=(1, 1), padding=(1, 1))\n",
       "      (bn2): BatchNorm2d(64, eps=1e-05, momentum=0.1, affine=True, track_running_stats=True)\n",
       "      (relu): ReLU(inplace=True)\n",
       "    )\n",
       "    (4): Block(\n",
       "      (conv1): Conv2d(64, 64, kernel_size=(3, 3), stride=(1, 1), padding=(1, 1))\n",
       "      (bn1): BatchNorm2d(64, eps=1e-05, momentum=0.1, affine=True, track_running_stats=True)\n",
       "      (conv2): Conv2d(64, 64, kernel_size=(3, 3), stride=(1, 1), padding=(1, 1))\n",
       "      (bn2): BatchNorm2d(64, eps=1e-05, momentum=0.1, affine=True, track_running_stats=True)\n",
       "      (relu): ReLU(inplace=True)\n",
       "    )\n",
       "    (5): Block(\n",
       "      (conv1): Conv2d(64, 64, kernel_size=(3, 3), stride=(1, 1), padding=(1, 1))\n",
       "      (bn1): BatchNorm2d(64, eps=1e-05, momentum=0.1, affine=True, track_running_stats=True)\n",
       "      (conv2): Conv2d(64, 64, kernel_size=(3, 3), stride=(1, 1), padding=(1, 1))\n",
       "      (bn2): BatchNorm2d(64, eps=1e-05, momentum=0.1, affine=True, track_running_stats=True)\n",
       "      (relu): ReLU(inplace=True)\n",
       "    )\n",
       "    (6): Block(\n",
       "      (conv1): Conv2d(64, 64, kernel_size=(3, 3), stride=(1, 1), padding=(1, 1))\n",
       "      (bn1): BatchNorm2d(64, eps=1e-05, momentum=0.1, affine=True, track_running_stats=True)\n",
       "      (conv2): Conv2d(64, 64, kernel_size=(3, 3), stride=(1, 1), padding=(1, 1))\n",
       "      (bn2): BatchNorm2d(64, eps=1e-05, momentum=0.1, affine=True, track_running_stats=True)\n",
       "      (relu): ReLU(inplace=True)\n",
       "    )\n",
       "    (7): Block(\n",
       "      (conv1): Conv2d(64, 64, kernel_size=(3, 3), stride=(1, 1), padding=(1, 1))\n",
       "      (bn1): BatchNorm2d(64, eps=1e-05, momentum=0.1, affine=True, track_running_stats=True)\n",
       "      (conv2): Conv2d(64, 64, kernel_size=(3, 3), stride=(1, 1), padding=(1, 1))\n",
       "      (bn2): BatchNorm2d(64, eps=1e-05, momentum=0.1, affine=True, track_running_stats=True)\n",
       "      (relu): ReLU(inplace=True)\n",
       "    )\n",
       "    (8): Block(\n",
       "      (conv1): Conv2d(64, 64, kernel_size=(3, 3), stride=(1, 1), padding=(1, 1))\n",
       "      (bn1): BatchNorm2d(64, eps=1e-05, momentum=0.1, affine=True, track_running_stats=True)\n",
       "      (conv2): Conv2d(64, 64, kernel_size=(3, 3), stride=(1, 1), padding=(1, 1))\n",
       "      (bn2): BatchNorm2d(64, eps=1e-05, momentum=0.1, affine=True, track_running_stats=True)\n",
       "      (relu): ReLU(inplace=True)\n",
       "    )\n",
       "    (9): Block(\n",
       "      (conv1): Conv2d(64, 64, kernel_size=(3, 3), stride=(1, 1), padding=(1, 1))\n",
       "      (bn1): BatchNorm2d(64, eps=1e-05, momentum=0.1, affine=True, track_running_stats=True)\n",
       "      (conv2): Conv2d(64, 64, kernel_size=(3, 3), stride=(1, 1), padding=(1, 1))\n",
       "      (bn2): BatchNorm2d(64, eps=1e-05, momentum=0.1, affine=True, track_running_stats=True)\n",
       "      (relu): ReLU(inplace=True)\n",
       "    )\n",
       "  )\n",
       "  (policy): Sequential(\n",
       "    (0): Conv2d(64, 2, kernel_size=(1, 1), stride=(1, 1))\n",
       "    (1): BatchNorm2d(2, eps=1e-05, momentum=0.1, affine=True, track_running_stats=True)\n",
       "    (2): LeakyReLU(negative_slope=0.01)\n",
       "    (3): Flatten(start_dim=1, end_dim=-1)\n",
       "    (4): Linear(in_features=578, out_features=361, bias=True)\n",
       "  )\n",
       "  (value): Sequential(\n",
       "    (0): Conv2d(64, 1, kernel_size=(1, 1), stride=(1, 1))\n",
       "    (1): BatchNorm2d(1, eps=1e-05, momentum=0.1, affine=True, track_running_stats=True)\n",
       "    (2): ReLU()\n",
       "    (3): Flatten(start_dim=1, end_dim=-1)\n",
       "    (4): Linear(in_features=289, out_features=256, bias=True)\n",
       "    (5): ReLU()\n",
       "    (6): Linear(in_features=256, out_features=1, bias=True)\n",
       "    (7): Sigmoid()\n",
       "  )\n",
       ")"
      ]
     },
     "execution_count": 15,
     "metadata": {},
     "output_type": "execute_result"
    }
   ],
   "source": [
    "# set model.\n",
    "model = H_GO(input_size=8, output_size=361, hidden_dim=64)\n",
    "model.to(device=device)"
   ]
  },
  {
   "cell_type": "code",
   "execution_count": 16,
   "metadata": {},
   "outputs": [],
   "source": [
    "# Print model summary.\n",
    "# summary(model, input_size=(8, 19, 19))"
   ]
  },
  {
   "cell_type": "code",
   "execution_count": 17,
   "metadata": {},
   "outputs": [],
   "source": [
    "# Set optimizer and loss function.\n",
    "optimizer = optim.RAdam(params=model.parameters())\n",
    "loss_fu_policy = nn.CrossEntropyLoss()\n",
    "loss_fu_value = nn.BCELoss()"
   ]
  },
  {
   "cell_type": "code",
   "execution_count": 18,
   "metadata": {},
   "outputs": [
    {
     "name": "stdout",
     "output_type": "stream",
     "text": [
      "Epoch: 000 | Loss of model: 39.887 | Accuracy of policy: 0.344% | Accuracy of value: 45.642%\n",
      "Epoch: 001 | Loss of model: 39.206 | Accuracy of policy: 1.032% | Accuracy of value: 50.975%\n",
      "Epoch: 002 | Loss of model: 37.810 | Accuracy of policy: 2.122% | Accuracy of value: 76.089%\n",
      "Epoch: 003 | Loss of model: 36.487 | Accuracy of policy: 4.472% | Accuracy of value: 83.888%\n",
      "Epoch: 004 | Loss of model: 35.058 | Accuracy of policy: 6.422% | Accuracy of value: 85.665%\n"
     ]
    }
   ],
   "source": [
    "sl_trainer = SL_Trainer(epochs=epochs, model=model, device=device, optimizer=optimizer, loss_fu_policy=loss_fu_policy, loss_fu_value=loss_fu_value)\n",
    "sl_trainer.train(data_reader=data_reader, batch_size=batch_size)"
   ]
  },
  {
   "cell_type": "code",
   "execution_count": 19,
   "metadata": {},
   "outputs": [
    {
     "name": "stdout",
     "output_type": "stream",
     "text": [
      "Accuracy of policy: 0.000% | Accuracy of value: 24.943%\n"
     ]
    }
   ],
   "source": [
    "sl_trainer.test(data_reader=data_reader, batch_size=batch_size)"
   ]
  },
  {
   "cell_type": "code",
   "execution_count": 20,
   "metadata": {},
   "outputs": [],
   "source": [
    "def play(model: H_GO) -> None:\n",
    "    # Set model to evaluation mode.\n",
    "    model.eval()\n",
    "\n",
    "    # Set defualt value.\n",
    "    player = -1\n",
    "    game_board = np.zeros((19, 19))\n",
    "    game_queue = deque(maxlen=7)\n",
    "    gui = GUI(size=19, label_mode=\"char\")\n",
    "\n",
    "    for _ in range(7):\n",
    "        game_queue.append(game_board.copy())\n",
    "\n",
    "    while True:\n",
    "        best_move = HTS(state=game_queue, depth=4, breadth=4, temperature=0.5, player=player, model=model, device=device).get_best_move()\n",
    "\n",
    "        row, col = best_move // 19, best_move % 19\n",
    "        game_board[row][col] = player\n",
    "        game_queue.append(game_board.copy())\n",
    "\n",
    "        print(f\"AI's move: ({row}, {col})\")\n",
    "        gui.display(game_board, best_move)\n",
    "        print()\n",
    "\n",
    "        player_move = input()\n",
    "\n",
    "        if player_move == \"q\": break\n",
    "\n",
    "        row, col = player_move.split(\",\")\n",
    "        row, col = int(row), int(col)\n",
    "        game_board[row][col] = 1\n",
    "        game_queue.append(game_board.copy())\n",
    "\n",
    "        print(f\"Player's move: ({row}, {col})\")\n",
    "        gui.display(game_board, row * 19 + col)\n",
    "        print()"
   ]
  },
  {
   "cell_type": "code",
   "execution_count": 22,
   "metadata": {},
   "outputs": [
    {
     "name": "stdout",
     "output_type": "stream",
     "text": [
      "AI's move: (15, 6)\n",
      "  A B C D E F G H I J K L M N O P Q R S\n",
      "A · · · · · · · · · · · · · · · · · · · \n",
      "B · · · · · · · · · · · · · · · · · · · \n",
      "C · · · · · · · · · · · · · · · · · · · \n",
      "D · · · · · · · · · · · · · · · · · · · \n",
      "E · · · · · · · · · · · · · · · · · · · \n",
      "F · · · · · · · · · · · · · · · · · · · \n",
      "G · · · · · · · · · · · · · · · · · · · \n",
      "H · · · · · · · · · · · · · · · · · · · \n",
      "I · · · · · · · · · · · · · · · · · · · \n",
      "J · · · · · · · · · · · · · · · · · · · \n",
      "K · · · · · · · · · · · · · · · · · · · \n",
      "L · · · · · · · · · · · · · · · · · · · \n",
      "M · · · · · · · · · · · · · · · · · · · \n",
      "N · · · · · · · · · · · · · · · · · · · \n",
      "O · · · · · · · · · · · · · · · · · · · \n",
      "P · · · · · ·(X)· · · · · · · · · · · · \n",
      "Q · · · · · · · · · · · · · · · · · · · \n",
      "R · · · · · · · · · · · · · · · · · · · \n",
      "S · · · · · · · · · · · · · · · · · · · \n",
      "\n"
     ]
    }
   ],
   "source": [
    "play(model=model)"
   ]
  },
  {
   "cell_type": "code",
   "execution_count": null,
   "metadata": {},
   "outputs": [],
   "source": []
  }
 ],
 "metadata": {
  "kernelspec": {
   "display_name": "pytorch",
   "language": "python",
   "name": "python3"
  },
  "language_info": {
   "codemirror_mode": {
    "name": "ipython",
    "version": 3
   },
   "file_extension": ".py",
   "mimetype": "text/x-python",
   "name": "python",
   "nbconvert_exporter": "python",
   "pygments_lexer": "ipython3",
   "version": "3.10.14"
  }
 },
 "nbformat": 4,
 "nbformat_minor": 2
}
